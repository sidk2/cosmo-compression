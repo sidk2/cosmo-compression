{
 "cells": [
  {
   "cell_type": "code",
   "execution_count": null,
   "id": "1db8d7b1",
   "metadata": {},
   "outputs": [
    {
     "name": "stdout",
     "output_type": "stream",
     "text": [
      "(120, 256, 256)\n"
     ]
    }
   ],
   "source": [
    "import numpy as np\n",
    "\n",
    "arr = np.load(\"/monolith/global_data/astro_compression/CAMELS/Maps_Mcdm_Astrid_1P_z=0.00.npy\")\n",
    "print(arr.shape)\n",
    "\n",
    "np.save(\"Maps_Mcdm_Astrid_1P_z=0.00.npy\", arr[:120, ...])  # Save only the first 1000 samples"
   ]
  }
 ],
 "metadata": {
  "kernelspec": {
   "display_name": "cosmo-repr",
   "language": "python",
   "name": "python3"
  },
  "language_info": {
   "codemirror_mode": {
    "name": "ipython",
    "version": 3
   },
   "file_extension": ".py",
   "mimetype": "text/x-python",
   "name": "python",
   "nbconvert_exporter": "python",
   "pygments_lexer": "ipython3",
   "version": "3.10.16"
  }
 },
 "nbformat": 4,
 "nbformat_minor": 5
}
