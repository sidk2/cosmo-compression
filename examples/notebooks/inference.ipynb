{
 "cells": [
  {
   "cell_type": "code",
   "execution_count": 1,
   "id": "3fc7acc6",
   "metadata": {},
   "outputs": [],
   "source": [
    "import os\n",
    "import torch\n",
    "import matplotlib.pyplot as plt\n",
    "\n",
    "from cosmo_compression.data import data\n",
    "from cosmo_compression.model import represent"
   ]
  },
  {
   "cell_type": "code",
   "execution_count": null,
   "id": "4df5bde4",
   "metadata": {},
   "outputs": [
    {
     "ename": "AttributeError",
     "evalue": "'numpy.ndarray' object has no attribute 'unsqueeze'",
     "output_type": "error",
     "traceback": [
      "\u001b[0;31m---------------------------------------------------------------------------\u001b[0m",
      "\u001b[0;31mAttributeError\u001b[0m                            Traceback (most recent call last)",
      "Cell \u001b[0;32mIn[6], line 22\u001b[0m\n\u001b[1;32m     20\u001b[0m \u001b[38;5;66;03m# 4) Grab one image\u001b[39;00m\n\u001b[1;32m     21\u001b[0m img, cosmo_params \u001b[38;5;241m=\u001b[39m cdm_dataset[\u001b[38;5;241m0\u001b[39m]         \u001b[38;5;66;03m# img shape = [C, H, W]\u001b[39;00m\n\u001b[0;32m---> 22\u001b[0m img_tensor \u001b[38;5;241m=\u001b[39m \u001b[43mimg\u001b[49m\u001b[38;5;241;43m.\u001b[39;49m\u001b[43munsqueeze\u001b[49m(\u001b[38;5;241m0\u001b[39m)\u001b[38;5;241m.\u001b[39mto(device)   \u001b[38;5;66;03m# add batch dim → [1, C, H, W]\u001b[39;00m\n\u001b[1;32m     24\u001b[0m \u001b[38;5;66;03m# 5) Reconstruct\u001b[39;00m\n\u001b[1;32m     25\u001b[0m \u001b[38;5;28;01mwith\u001b[39;00m torch\u001b[38;5;241m.\u001b[39mno_grad():\n",
      "\u001b[0;31mAttributeError\u001b[0m: 'numpy.ndarray' object has no attribute 'unsqueeze'"
     ]
    }
   ],
   "source": [
    "# 1) Setup\n",
    "device = 'cuda' if torch.cuda.is_available() else 'cpu'\n",
    "ckpt_path = '~/latent_ablation_workshop_outc/no_hierarchical_8/step=step=15500-val_loss=0.327.ckpt'   # ← change to your .ckpt\n",
    "dataset_path = '/monolith/global_data/astro_compression/CAMELS/'\n",
    "\n",
    "# 2) Load model\n",
    "model = represent.CosmoFlow.load_from_checkpoint(ckpt_path)\n",
    "model = model.to(device).eval()\n",
    "\n",
    "# 3) Prepare dataset (single‐sample access)\n",
    "cdm_dataset = data.CAMELS(\n",
    "    root=dataset_path,\n",
    "    idx_list=range(0, 1),\n",
    "    map_type='Mcdm',\n",
    "    suite='Astrid',\n",
    "    dataset='1P',\n",
    "    parameters=['Omega_m','sigma_8','A_SN1','A_SN2','A_AGN1','A_AGN2','Omega_b'],\n",
    ")\n",
    "\n",
    "# 4) Grab one image\n",
    "img, cosmo_params = cdm_dataset[0]         # img shape = [C, H, W]\n",
    "img_tensor = torch.tensor(img).unsqueeze(0).to(device)   # add batch dim → [1, C, H, W]\n",
    "\n",
    "# 5) Reconstruct\n",
    "with torch.no_grad():\n",
    "    latent = model.encoder(img_tensor)\n",
    "\n",
    "    # Available solvers are 'euler', 'rk4', and 'dopri5'\n",
    "    recon = model.decoder.predict(\n",
    "        x0=torch.randn_like(img_tensor),\n",
    "        h=latent,\n",
    "        n_sampling_steps=30,\n",
    "        solver='rk4',\n",
    "    )\n",
    "\n",
    "# 6) Plot\n",
    "orig = img_tensor.cpu().squeeze().permute(1,2,0).numpy()\n",
    "rec  = recon.cpu().squeeze().permute(1,2,0).numpy()\n",
    "\n",
    "fig, axes = plt.subplots(1,2, figsize=(8,4))\n",
    "axes[0].imshow(orig, cmap='viridis')\n",
    "axes[0].set_title('Original')\n",
    "axes[0].axis('off')\n",
    "\n",
    "axes[1].imshow(rec, cmap='viridis')\n",
    "axes[1].set_title('Reconstruction')\n",
    "axes[1].axis('off')"
   ]
  }
 ],
 "metadata": {
  "kernelspec": {
   "display_name": "cosmo-repr",
   "language": "python",
   "name": "python3"
  },
  "language_info": {
   "codemirror_mode": {
    "name": "ipython",
    "version": 3
   },
   "file_extension": ".py",
   "mimetype": "text/x-python",
   "name": "python",
   "nbconvert_exporter": "python",
   "pygments_lexer": "ipython3",
   "version": "3.10.16"
  }
 },
 "nbformat": 4,
 "nbformat_minor": 5
}
